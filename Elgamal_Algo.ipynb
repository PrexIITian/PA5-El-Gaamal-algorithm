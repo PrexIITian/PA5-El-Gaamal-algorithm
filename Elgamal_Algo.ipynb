{
  "nbformat": 4,
  "nbformat_minor": 5,
  "metadata": {
    "language_info": {
      "name": "python",
      "version": "3.7.8",
      "mimetype": "text/x-python",
      "codemirror_mode": {
        "name": "ipython",
        "version": 3
      },
      "pygments_lexer": "ipython3",
      "nbconvert_exporter": "python",
      "file_extension": ".py"
    },
    "kernelspec": {
      "name": "python3",
      "display_name": "Python 3",
      "language": "python"
    },
    "colab": {
      "name": "Elgamal Algo.ipynb",
      "provenance": [],
      "collapsed_sections": []
    }
  },
  "cells": [
    {
      "cell_type": "markdown",
      "source": [
        "Priyansh Shah<br>\n",
        "21072012<br>\n",
        "Practical Assignment 5<br>\n",
        "Elgaamal Algorithm<br>\n",
        "MTech CSE<br>"
      ],
      "metadata": {
        "id": "foX4xLYChzv0"
      },
      "id": "foX4xLYChzv0"
    },
    {
      "cell_type": "code",
      "source": [
        "pip install Crypto\n",
        "pip install pyCrypto"
      ],
      "metadata": {
        "id": "84U2G2-Qh2go",
        "colab": {
          "base_uri": "https://localhost:8080/"
        },
        "outputId": "f505c21e-c07e-4f12-d4eb-ef2a9acc72b0"
      },
      "id": "84U2G2-Qh2go",
      "execution_count": 4,
      "outputs": [
        {
          "output_type": "stream",
          "name": "stdout",
          "text": [
            "Collecting pyCrypto\n",
            "  Downloading pycrypto-2.6.1.tar.gz (446 kB)\n",
            "\u001b[?25l\r\u001b[K     |▊                               | 10 kB 17.4 MB/s eta 0:00:01\r\u001b[K     |█▌                              | 20 kB 19.1 MB/s eta 0:00:01\r\u001b[K     |██▏                             | 30 kB 20.9 MB/s eta 0:00:01\r\u001b[K     |███                             | 40 kB 10.4 MB/s eta 0:00:01\r\u001b[K     |███▊                            | 51 kB 9.0 MB/s eta 0:00:01\r\u001b[K     |████▍                           | 61 kB 10.4 MB/s eta 0:00:01\r\u001b[K     |█████▏                          | 71 kB 7.0 MB/s eta 0:00:01\r\u001b[K     |█████▉                          | 81 kB 6.8 MB/s eta 0:00:01\r\u001b[K     |██████▋                         | 92 kB 7.4 MB/s eta 0:00:01\r\u001b[K     |███████▍                        | 102 kB 7.9 MB/s eta 0:00:01\r\u001b[K     |████████                        | 112 kB 7.9 MB/s eta 0:00:01\r\u001b[K     |████████▉                       | 122 kB 7.9 MB/s eta 0:00:01\r\u001b[K     |█████████▌                      | 133 kB 7.9 MB/s eta 0:00:01\r\u001b[K     |██████████▎                     | 143 kB 7.9 MB/s eta 0:00:01\r\u001b[K     |███████████                     | 153 kB 7.9 MB/s eta 0:00:01\r\u001b[K     |███████████▊                    | 163 kB 7.9 MB/s eta 0:00:01\r\u001b[K     |████████████▌                   | 174 kB 7.9 MB/s eta 0:00:01\r\u001b[K     |█████████████▏                  | 184 kB 7.9 MB/s eta 0:00:01\r\u001b[K     |██████████████                  | 194 kB 7.9 MB/s eta 0:00:01\r\u001b[K     |██████████████▊                 | 204 kB 7.9 MB/s eta 0:00:01\r\u001b[K     |███████████████▍                | 215 kB 7.9 MB/s eta 0:00:01\r\u001b[K     |████████████████▏               | 225 kB 7.9 MB/s eta 0:00:01\r\u001b[K     |█████████████████               | 235 kB 7.9 MB/s eta 0:00:01\r\u001b[K     |█████████████████▋              | 245 kB 7.9 MB/s eta 0:00:01\r\u001b[K     |██████████████████▍             | 256 kB 7.9 MB/s eta 0:00:01\r\u001b[K     |███████████████████             | 266 kB 7.9 MB/s eta 0:00:01\r\u001b[K     |███████████████████▉            | 276 kB 7.9 MB/s eta 0:00:01\r\u001b[K     |████████████████████▋           | 286 kB 7.9 MB/s eta 0:00:01\r\u001b[K     |█████████████████████▎          | 296 kB 7.9 MB/s eta 0:00:01\r\u001b[K     |██████████████████████          | 307 kB 7.9 MB/s eta 0:00:01\r\u001b[K     |██████████████████████▊         | 317 kB 7.9 MB/s eta 0:00:01\r\u001b[K     |███████████████████████▌        | 327 kB 7.9 MB/s eta 0:00:01\r\u001b[K     |████████████████████████▎       | 337 kB 7.9 MB/s eta 0:00:01\r\u001b[K     |█████████████████████████       | 348 kB 7.9 MB/s eta 0:00:01\r\u001b[K     |█████████████████████████▊      | 358 kB 7.9 MB/s eta 0:00:01\r\u001b[K     |██████████████████████████▍     | 368 kB 7.9 MB/s eta 0:00:01\r\u001b[K     |███████████████████████████▏    | 378 kB 7.9 MB/s eta 0:00:01\r\u001b[K     |████████████████████████████    | 389 kB 7.9 MB/s eta 0:00:01\r\u001b[K     |████████████████████████████▋   | 399 kB 7.9 MB/s eta 0:00:01\r\u001b[K     |█████████████████████████████▍  | 409 kB 7.9 MB/s eta 0:00:01\r\u001b[K     |██████████████████████████████  | 419 kB 7.9 MB/s eta 0:00:01\r\u001b[K     |██████████████████████████████▉ | 430 kB 7.9 MB/s eta 0:00:01\r\u001b[K     |███████████████████████████████▋| 440 kB 7.9 MB/s eta 0:00:01\r\u001b[K     |████████████████████████████████| 446 kB 7.9 MB/s \n",
            "\u001b[?25hBuilding wheels for collected packages: pyCrypto\n",
            "  Building wheel for pyCrypto (setup.py) ... \u001b[?25l\u001b[?25hdone\n",
            "  Created wheel for pyCrypto: filename=pycrypto-2.6.1-cp37-cp37m-linux_x86_64.whl size=499932 sha256=d8b1e9bc374df241d91f532b361028592c14fe6c1ec0e94a6fcdf5dd00bced23\n",
            "  Stored in directory: /root/.cache/pip/wheels/cf/85/ba/bbd7c96add459de7598fb424e5ff2309baf2095c844ac0f191\n",
            "Successfully built pyCrypto\n",
            "Installing collected packages: pyCrypto\n",
            "Successfully installed pyCrypto-2.6.1\n"
          ]
        }
      ]
    },
    {
      "cell_type": "code",
      "metadata": {
        "id": "ea79a454-e267-401e-be9b-293c92c7e285",
        "colab": {
          "base_uri": "https://localhost:8080/"
        },
        "outputId": "65ff2d42-57b3-4e83-df33-ce86500f641a"
      },
      "source": [
        "import Crypto.Util.number as pycrypto\n",
        "import sympy\n",
        "import random\n",
        "from binascii import hexlify, unhexlify\n",
        "\n",
        "def encrypt(m,y,g,p,h):\n",
        "  c1 = pow(g,y,p) # g^y mod p\n",
        "  c2 = (m * pow(h, y, p) ) % p\n",
        "  return c1,c2\n",
        "\n",
        "def decrypt(x,c1,c2,p):\n",
        "  s = pow(c1,x,p) # c1^x mod p\n",
        "  dm = (c2 * pycrypto.inverse(s,p)) % p\n",
        "  return dm\n",
        "\n",
        "def shared_secret(g,x,p):\n",
        "  # Shared Secret between sender and receiver(h)\n",
        "  h = pow(g,x,p) # g^x mod p\n",
        "  return h\n",
        "\n",
        "input_message = input(\"Enter message to encrypt: \")\n",
        "inputbytes = str.encode(input_message)\n",
        "m = int(hexlify(inputbytes), 16) #hexlify is method to convert the binary data to hexadecimal\n",
        "p = sympy.randprime(m*2, m*4) #randprime returns random prime number in given range or else returns error if no prime is in given range\n",
        "g = sympy.randprime(int(m/2), m)# randprime function's first arguement is the starting of range including that number and second argument is end of range exclusive of that number\n",
        "x = random.randint(int(m/2),m)# randint returns random integer number in given range\n",
        "y = random.randint(int(m/2),m)\n",
        "\n",
        "print(\"MESSAGE as an int (M): \",m)\n",
        "print(\"Prime number (P): \",p)\n",
        "print(\"Generator (G): \",g)\n",
        "print(\"Receiver's private key (X): \",x)\n",
        "print(\"Sender's private key (Y): \",y)\n",
        "\n",
        "h = shared_secret(g,x,p)\n",
        "print(\"Shared secret (H): \",h)\n",
        "\n",
        "c1, c2 = encrypt(m,y,g,p,h)\n",
        "print(\"Encrypted Message (C1): \",c1)\n",
        "print(\"Encrypted Message (C2): \",c2)\n",
        "\n",
        "dm = decrypt(x,c1,c2,p)\n",
        "print(\"Decrypted Integer (dm): \",dm)\n",
        "x = format(dm, 'x') # converts the integer value to hexadecimal\n",
        "print(\"Decrypted Hex (x): \",x)\n",
        "message = unhexlify(x) #unhexlify is used to return the binary string that is represented by any hexadecimal string\n",
        "print(\"Decrypted Message: \",message)"
      ],
      "id": "ea79a454-e267-401e-be9b-293c92c7e285",
      "execution_count": 7,
      "outputs": [
        {
          "output_type": "stream",
          "name": "stdout",
          "text": [
            "Enter message to encrypt: Priyansh\n",
            "MESSAGE as an int (M):  5796811640425837416\n",
            "Prime number (P):  18297856899578929831\n",
            "Generator (G):  4914933288364677161\n",
            "Receiver's private key (X):  3367491531913781898\n",
            "Sender's private key (Y):  4426845581300290652\n",
            "Shared secret (H):  3210155822281037373\n",
            "Encrypted Message (C1):  15106220088826199623\n",
            "Encrypted Message (C2):  6494753843789468406\n",
            "Decrypted Integer (dm):  5796811640425837416\n",
            "Decrypted Hex (x):  50726979616e7368\n",
            "Decrypted Message:  b'Priyansh'\n"
          ]
        }
      ]
    }
  ]
}