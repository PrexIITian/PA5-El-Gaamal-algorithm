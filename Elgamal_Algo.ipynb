{
  "nbformat": 4,
  "nbformat_minor": 5,
  "metadata": {
    "language_info": {
      "name": "python",
      "version": "3.7.8",
      "mimetype": "text/x-python",
      "codemirror_mode": {
        "name": "ipython",
        "version": 3
      },
      "pygments_lexer": "ipython3",
      "nbconvert_exporter": "python",
      "file_extension": ".py"
    },
    "kernelspec": {
      "name": "python3",
      "display_name": "Python 3",
      "language": "python"
    },
    "colab": {
      "name": "Elgamal Algo.ipynb",
      "provenance": [],
      "collapsed_sections": []
    }
  },
  "cells": [
    {
      "cell_type": "markdown",
      "source": [
        "Priyansh Shah<br>\n",
        "21072012<br>\n",
        "Practical Assignment 5<br>\n",
        "Elgaamal Algorithm<br>\n",
        "MTech CSE<br>"
      ],
      "metadata": {
        "id": "foX4xLYChzv0"
      },
      "id": "foX4xLYChzv0"
    },
    {
      "cell_type": "code",
      "metadata": {
        "id": "ea79a454-e267-401e-be9b-293c92c7e285",
        "colab": {
          "base_uri": "https://localhost:8080/"
        },
        "outputId": "9db2c60e-8e96-453e-d8f0-d279ca1bb1f1"
      },
      "source": [
        "import Crypto.Util.number as pycrypto\n",
        "import sympy\n",
        "import random\n",
        "from binascii import hexlify, unhexlify\n",
        "\n",
        "def encrypt(m,y,g,p,h):\n",
        "  c1 = pow(g,y,p) # g^y mod p\n",
        "  c2 = (m * pow(h, y, p) ) % p\n",
        "  return c1,c2\n",
        "\n",
        "def decrypt(x,c1,c2,p):\n",
        "  s = pow(c1,x,p) # c1^x mod p\n",
        "  dm = (c2 * pycrypto.inverse(s,p)) % p\n",
        "  return dm\n",
        "\n",
        "def shared_secret(g,x,p):\n",
        "  # Shared Secret between sender and receiver(h)\n",
        "  h = pow(g,x,p) # g^x mod p\n",
        "  return h\n",
        "\n",
        "input_message = input(\"Enter message to encrypt: \")\n",
        "inputbytes = str.encode(input_message)\n",
        "m = int(hexlify(inputbytes), 16) #hexlify is method to convert the binary data to hexadecimal\n",
        "p = sympy.randprime(m*2, m*4) #randprime returns random prime number in given range or else returns error if no prime is in given range\n",
        "g = sympy.randprime(int(m/2), m)# randprime function's first arguement is the starting of range including that number and second argument is end of range exclusive of that number\n",
        "x = random.randint(int(m/2),m)# randint returns random integer number in given range\n",
        "y = random.randint(int(m/2),m)\n",
        "\n",
        "print(\"MESSAGE as an int (M): \",m)\n",
        "print(\"Prime number (P): \",p)\n",
        "print(\"Generator (G): \",g)\n",
        "print(\"Receiver's private key (X): \",x)\n",
        "print(\"Sender's private key (Y): \",y)\n",
        "\n",
        "h = shared_secret(g,x,p)\n",
        "print(\"Shared secret (H): \",h)\n",
        "\n",
        "c1, c2 = encrypt(m,r,g,p,h)\n",
        "print(\"Encrypted Message (C1): \",c1)\n",
        "print(\"Encrypted Message (C2): \",c2)\n",
        "\n",
        "dm = decrypt(x,c1,c2,p)\n",
        "print(\"Decrypted Integer (dm): \",dm)\n",
        "x = format(dm, 'x') # converts the integer value to hexadecimal\n",
        "print(\"Decrypted Hex (x): \",x)\n",
        "message = unhexlify(x) #unhexlify is used to return the binary string that is represented by any hexadecimal string\n",
        "print(\"Decrypted Message: \",message)"
      ],
      "id": "ea79a454-e267-401e-be9b-293c92c7e285",
      "execution_count": 12,
      "outputs": [
        {
          "output_type": "stream",
          "name": "stdout",
          "text": [
            "Enter message to encrypt: 17\n",
            "MESSAGE as an int (M):  12599\n",
            "Prime number (P):  37087\n",
            "Generator (G):  10427\n",
            "Receiver's private key (X):  10793\n",
            "Sender's private key (Y):  9983\n",
            "Shared secret (H):  36596\n",
            "Encrypted Message (C1):  3228\n",
            "Encrypted Message (C2):  19476\n",
            "Decrypted Integer (dm):  12599\n",
            "Decrypted Hex (x):  3137\n",
            "Decrypted Message:  b'17'\n"
          ]
        }
      ]
    },
    {
      "cell_type": "code",
      "source": [
        ""
      ],
      "metadata": {
        "id": "84U2G2-Qh2go"
      },
      "id": "84U2G2-Qh2go",
      "execution_count": null,
      "outputs": []
    }
  ]
}